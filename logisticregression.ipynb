{
 "cells": [
  {
   "cell_type": "markdown",
   "metadata": {},
   "source": [
    "# LOGISTIC REGRESSION"
   ]
  },
  {
   "cell_type": "code",
   "execution_count": null,
   "metadata": {},
   "outputs": [],
   "source": [
    "import numpy as np"
   ]
  },
  {
   "cell_type": "code",
   "execution_count": null,
   "metadata": {},
   "outputs": [],
   "source": [
    "x=np.array([[0.5,1.5],[1,1],[1.5,0.5],[3,0.5],[2,2],[1,2.5]]) #(m,n)\n",
    "y=np.array([0,0,0,1,1,1]) \n",
    "w=np.array([1,1])\n",
    "b=-2\n",
    "\n",
    "def cost_logistic(x,y,w,b):\n",
    "    m=x.shape[0]\n",
    "    cost=0.0\n",
    "    for i in range(m):\n",
    "        z_i=np.dot(w,x[i])+b\n",
    "        f_wb=sigmoid(z_i)\n",
    "        cost = cost+ (-y[i]*np.log(f_wb)-(1-y[i])*np.log(1-f_wb))\n",
    "    cost=cost/m\n",
    "    return cost\n",
    "\n",
    "result=cost_logistic(x,y,w,b)\n",
    "print(result)"
   ]
  },
  {
   "cell_type": "code",
   "execution_count": null,
   "metadata": {},
   "outputs": [],
   "source": [
    "x=np.array([[0.5,1.5],[1,1],[1.5,0.5],[3,0.5],[2,2],[1,2.5]]) #(m,n)\n",
    "y=np.array([0,0,0,1,1,1]) \n",
    "w=np.array([2.,3.])\n",
    "b=1.\n",
    "\n",
    "def grd_desc(x,y,w,b):\n",
    "    m,n=x.shape\n",
    "    d_dw=np.zeros((n))\n",
    "    d_db=0.\n",
    "    for i in range(m):\n",
    "        z=np.dot(w,x[i])+b\n",
    "        fwb=1/(1+2.7**(-z))     #or 1/(1+np.exp(-z)) both gives out similar values #or you can eliminate z,fw step and do f_wb_i = sigmoid(np.dot(X[i],w) + b) \n",
    "        err=fwb-y[i]\n",
    "        for j in range(n):\n",
    "            d_dw[j]=d_dw[j]+err*x[i,j]\n",
    "        d_db=d_db+err\n",
    "    d_dw=1/m*d_dw\n",
    "    d_db=1/m*d_db\n",
    "    \n",
    "    return d_dw,d_db\n",
    "\n",
    "result=grd_desc(x,y,w,b)\n",
    "print(result)"
   ]
  },
  {
   "cell_type": "markdown",
   "metadata": {},
   "source": [
    "# Logistic regression cost with regularization"
   ]
  },
  {
   "cell_type": "code",
   "execution_count": null,
   "metadata": {},
   "outputs": [],
   "source": [
    "def log_reg_coreg(x,y,w,b,lambda_=1):\n",
    "    m,n=x.shape\n",
    "    cost=0.\n",
    "    for i in range(m):\n",
    "        z=np.dot(w,x[i])+b\n",
    "        f_wb=1/(1+2.7)**-z\n",
    "        cost += -y[i]*np.log(f_wb)-(1-y[i])*np.log(1-f_wb)\n",
    "    cost=1/(2*m)*cost\n",
    "    \n",
    "    reg_cost=0\n",
    "    for j in range(n):\n",
    "        reg_cost += (w[j]**2)\n",
    "    reg_cost=(lambda_1/(2*m))*reg_cost\n",
    "    \n",
    "    total_cost=cost+reg_cost\n",
    "    return total_cost"
   ]
  },
  {
   "cell_type": "markdown",
   "metadata": {},
   "source": [
    "# Gradient function for regularized logistic regression"
   ]
  },
  {
   "cell_type": "code",
   "execution_count": null,
   "metadata": {},
   "outputs": [],
   "source": [
    "def grad_reg_log(x,y,w,b,lambda_):\n",
    "    m,n=x.shape\n",
    "    d_dw=np.zeros(n)\n",
    "    d_db=0.\n",
    "    for i in range(m):\n",
    "        z=np.dot(w,x[i])+b\n",
    "        f_wb=1/(1+2.7)**-z\n",
    "        err=f_wb-y[i]\n",
    "        for j in range(n):\n",
    "            d_dw[j]=d_dw[j]+err*x[i,j]\n",
    "        d_db=d_db+err\n",
    "        \n",
    "    d_dw=1/m*d_dw\n",
    "    d_db=1/m*d_db\n",
    "    \n",
    "    for j in range(n):\n",
    "        d_dw[j]=d_dw[j]+(lambda_/m)*w[j]\n",
    "        \n",
    "    return d_dw,d_db    "
   ]
  },
  {
   "cell_type": "code",
   "execution_count": null,
   "metadata": {},
   "outputs": [],
   "source": []
  },
  {
   "cell_type": "code",
   "execution_count": null,
   "metadata": {},
   "outputs": [],
   "source": []
  },
  {
   "cell_type": "code",
   "execution_count": null,
   "metadata": {},
   "outputs": [],
   "source": []
  },
  {
   "cell_type": "code",
   "execution_count": null,
   "metadata": {},
   "outputs": [],
   "source": []
  }
 ],
 "metadata": {
  "language_info": {
   "name": "python"
  }
 },
 "nbformat": 4,
 "nbformat_minor": 2
}
