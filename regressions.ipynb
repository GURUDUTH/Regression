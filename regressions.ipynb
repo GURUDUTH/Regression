{
 "cells": [
  {
   "cell_type": "markdown",
   "id": "b42abf05",
   "metadata": {},
   "source": [
    "# LINEAR REGRESSION"
   ]
  },
  {
   "cell_type": "code",
   "execution_count": 1,
   "id": "490d91cf",
   "metadata": {},
   "outputs": [],
   "source": [
    "import numpy as np"
   ]
  },
  {
   "cell_type": "code",
   "execution_count": 2,
   "id": "0e3350a0",
   "metadata": {},
   "outputs": [
    {
     "name": "stdout",
     "output_type": "stream",
     "text": [
      "2048\n"
     ]
    }
   ],
   "source": [
    "x=np.array([11,23,44,66])\n",
    "w=np.array([13,12,14,15])\n",
    "b=23\n",
    "\n",
    "def pre_dic(x,w,b):\n",
    "    n=x.shape[0]\n",
    "    p=0\n",
    "    for i in range(n):\n",
    "        p_i=x[i]*w[i]\n",
    "        p=p+p_i\n",
    "    p=p+b\n",
    "    return p\n",
    "\n",
    "print(pre_dic(x,w,b))\n"
   ]
  },
  {
   "cell_type": "code",
   "execution_count": 16,
   "id": "89b7a904",
   "metadata": {},
   "outputs": [
    {
     "name": "stdout",
     "output_type": "stream",
     "text": [
      "2048\n"
     ]
    }
   ],
   "source": [
    "def pre_dict(x,w,b):\n",
    "      p=np.dot(x,w)+b\n",
    "      return p\n",
    "    \n",
    "print(pre_dict(x,w,b)) "
   ]
  },
  {
   "cell_type": "code",
   "execution_count": 18,
   "id": "73505097",
   "metadata": {},
   "outputs": [
    {
     "name": "stdout",
     "output_type": "stream",
     "text": [
      "101249.16125\n"
     ]
    }
   ],
   "source": [
    "x=np.array([[34,56,23,98],\n",
    "            [43,62,43,77],\n",
    "            [12,77,84,23]])\n",
    "w=np.array([1.1,2.2,3.3,4.4])\n",
    "y=np.array([100,200,300,400])\n",
    "b=0.55\n",
    "\n",
    "def cost_fun(x,y,w,b):\n",
    "    n=x.shape[0]\n",
    "    cost=0.0  \n",
    "    for i in range(n):\n",
    "        f_wb=np.dot(x[i],w)+b\n",
    "        cost=cost+(f_wb-y[i])**2\n",
    "    cost=1/(2*n)*cost\n",
    "    return cost\n",
    "    \n",
    "result=cost_fun(x,y,w,b)\n",
    "print(result)"
   ]
  },
  {
   "cell_type": "code",
   "execution_count": 10,
   "id": "2eaec947",
   "metadata": {},
   "outputs": [
    {
     "name": "stdout",
     "output_type": "stream",
     "text": [
      "(array([14150.65      , 26929.41666667, 18344.26666667, 32501.76666667]), 431.5833333333333)\n"
     ]
    }
   ],
   "source": [
    "x=np.array([[34,56,23,98],\n",
    "            [43,62,43,77],\n",
    "            [12,77,84,23]])\n",
    "w=np.array([1.1,2.2,3.3,4.4])\n",
    "y=np.array([100,200,300,400])\n",
    "b=0.55\n",
    "\n",
    "\n",
    "def deriv_respw(x,y,w,b):\n",
    "    m,n=x.shape\n",
    "    d_dw=np.zeros(n)\n",
    "    d_db=0.\n",
    "    for i in range(m):\n",
    "        err=(np.dot(x[i],w)+b)-y[i]\n",
    "        for j in range(n):\n",
    "            d_dw[j]=d_dw[j]+err*x[i,j]\n",
    "        d_db=d_db+err\n",
    "        \n",
    "    d_dw=1/m*d_dw\n",
    "    d_db=1/m*d_db\n",
    "    return d_dw,d_db\n",
    "\n",
    "result=deriv_respw(x,y,w,b)\n",
    "print(result)"
   ]
  },
  {
   "cell_type": "code",
   "execution_count": null,
   "id": "7574a74c",
   "metadata": {},
   "outputs": [],
   "source": [
    "x=np.array([[34,56,23,98],\n",
    "            [43,62,43,77],\n",
    "            [12,77,84,23]])\n",
    "w=np.array([1.1,2.2,3.3,4.4])\n",
    "y=np.array([100,200,300,400])\n",
    "b=0.55\n",
    "num_iters=1000\n",
    "\n",
    "\n",
    "def gradient_descent(x,y,w,b,cost_fun,alpha,num_iters,deriv_respw):\n",
    "    j_history=[]\n",
    "    w=copy.deepcopy(w_init)\n",
    "    b=b_init\n",
    "    for i in range(num_iters):\n",
    "        d_dw,d_db=deriv_respw(x,y,w,b)\n",
    "        w=w-alpha*d_dw\n",
    "        b=b-alpha*d_db\n",
    "        if i < 10000:\n",
    "            j_history.append(cost_fun(x,y,w,b))\n",
    "        if i% math.ceil(num_iters / 10) == 0:\n",
    "            print(f\"Iteration {i:4d}: Cost {J_history[-1]:8.2f}   \")\n",
    "    return w,b,j_history\n",
    "\n",
    "result=gradient_descent(x,y,w,b,cost_fun,alpha,num_iters,deriv_respw)\n",
    "print(result)"
   ]
  },
  {
   "cell_type": "markdown",
   "id": "e2728e2b",
   "metadata": {},
   "source": [
    "# LOGISTIC REGRESSION"
   ]
  },
  {
   "cell_type": "code",
   "execution_count": null,
   "id": "206362fb",
   "metadata": {},
   "outputs": [],
   "source": [
    "x=np.array([[0.5,1.5],[1,1],[1.5,0.5],[3,0.5],[2,2],[1,2.5]]) #(m,n)\n",
    "y=np.array([0,0,0,1,1,1]) \n",
    "w=np.array([1,1])\n",
    "b=-2\n",
    "\n",
    "def cost_logistic(x,y,w,b):\n",
    "    m=x.shape[0]\n",
    "    cost=0.0\n",
    "    for i in range(m):\n",
    "        z_i=np.dot(w,x[i])+b\n",
    "        f_wb=sigmoid(z_i)\n",
    "        cost = cost+ (-y[i]*np.log(f_wb)-(1-y[i])*np.log(1-f_wb))\n",
    "    cost=cost/m\n",
    "    return cost\n",
    "\n",
    "result=cost_logistic(x,y,w,b)\n",
    "print(result)"
   ]
  },
  {
   "cell_type": "code",
   "execution_count": 22,
   "id": "d9cadc4a",
   "metadata": {},
   "outputs": [
    {
     "name": "stdout",
     "output_type": "stream",
     "text": [
      "(array([0.49826573, 0.4987906 ]), 0.4985617851767823)\n"
     ]
    }
   ],
   "source": [
    "x=np.array([[0.5,1.5],[1,1],[1.5,0.5],[3,0.5],[2,2],[1,2.5]]) #(m,n)\n",
    "y=np.array([0,0,0,1,1,1]) \n",
    "w=np.array([2.,3.])\n",
    "b=1.\n",
    "\n",
    "def grd_desc(x,y,w,b):\n",
    "    m,n=x.shape\n",
    "    d_dw=np.zeros((n))\n",
    "    d_db=0.\n",
    "    for i in range(m):\n",
    "        z=np.dot(w,x[i])+b\n",
    "        fwb=1/(1+2.7**(-z))     #or 1/(1+np.exp(-z)) both gives out similar values #or you can eliminate z,fw step and do f_wb_i = sigmoid(np.dot(X[i],w) + b) \n",
    "        err=fwb-y[i]\n",
    "        for j in range(n):\n",
    "            d_dw[j]=d_dw[j]+err*x[i,j]\n",
    "        d_db=d_db+err\n",
    "    d_dw=1/m*d_dw\n",
    "    d_db=1/m*d_db\n",
    "    \n",
    "    return d_dw,d_db\n",
    "\n",
    "result=grd_desc(x,y,w,b)\n",
    "print(result)"
   ]
  },
  {
   "cell_type": "markdown",
   "id": "fa47ec11",
   "metadata": {},
   "source": [
    "# Linear regression cost with regularization"
   ]
  },
  {
   "cell_type": "code",
   "execution_count": null,
   "id": "ce1e6c2c",
   "metadata": {},
   "outputs": [],
   "source": [
    "def lin_reg_coreg(x,y,w,b,lamba_=1):\n",
    "    m=x.shape[0]\n",
    "    n=len(w)\n",
    "    cost=0.\n",
    "    for i in range(m):\n",
    "        f_wb=np.dot(w,x[i])+b\n",
    "        cost=cost+(f_wb-y[i])**2\n",
    "    cost=1/(2*m)*cost\n",
    "    \n",
    "    reg_cost=0\n",
    "    for j in range(n):\n",
    "        reg_cost=reg_cost+(w[j]**2)\n",
    "    reg_cost=(lambda_/(2*m))*reg_cost\n",
    "    \n",
    "    total_cost=cost+reg_cost\n",
    "    return total_cost"
   ]
  },
  {
   "cell_type": "markdown",
   "id": "e13d25d3",
   "metadata": {},
   "source": [
    "# Logistic regression cost with regularization"
   ]
  },
  {
   "cell_type": "code",
   "execution_count": null,
   "id": "b146e2ca",
   "metadata": {},
   "outputs": [],
   "source": [
    "def log_reg_coreg(x,y,w,b,lambda_=1):\n",
    "    m,n=x.shape\n",
    "    cost=0.\n",
    "    for i in range(m):\n",
    "        z=np.dot(w,x[i])+b\n",
    "        f_wb=1/(1+2.7)**-z\n",
    "        cost += -y[i]*np.log(f_wb)-(1-y[i])*np.log(1-f_wb)\n",
    "    cost=1/(2*m)*cost\n",
    "    \n",
    "    reg_cost=0\n",
    "    for j in range(n):\n",
    "        reg_cost += (w[j]**2)\n",
    "    reg_cost=(lambda_1/(2*m))*reg_cost\n",
    "    \n",
    "    total_cost=cost+reg_cost\n",
    "    return total_cost"
   ]
  },
  {
   "cell_type": "markdown",
   "id": "daaafa7c",
   "metadata": {},
   "source": [
    "# Gradient function for regularized linear regression"
   ]
  },
  {
   "cell_type": "code",
   "execution_count": null,
   "id": "c1732435",
   "metadata": {},
   "outputs": [],
   "source": [
    "def grad_reg_lin(x,y,w,b,lambda_):\n",
    "    m,n=x.shape\n",
    "    d_dw=np.zeros(n,)\n",
    "    d_db=0.\n",
    "    \n",
    "    for i in range(m):\n",
    "        err=np.dot(w,x[i])+b-y[i]\n",
    "        for j in range(n):\n",
    "            d_dw[j]=d_dw[j]+err*x[i,j]\n",
    "        d_db=d_db+err\n",
    "        \n",
    "    d_dw=1/m*d_dw\n",
    "    d_db=1/m*d_db\n",
    "    \n",
    "    for j in range(n):\n",
    "        d_dw[j]=d_dw[j]+(lambda_/m)*w[j]\n",
    "        \n",
    "    return d_dw,d_db    "
   ]
  },
  {
   "cell_type": "markdown",
   "id": "8bc9502b",
   "metadata": {},
   "source": [
    "# Gradient function for regularized logistic regression"
   ]
  },
  {
   "cell_type": "code",
   "execution_count": 27,
   "id": "77d964d2",
   "metadata": {},
   "outputs": [],
   "source": [
    "def grad_reg_log(x,y,w,b,lambda_):\n",
    "    m,n=x.shape\n",
    "    d_dw=np.zeros(n)\n",
    "    d_db=0.\n",
    "    for i in range(m):\n",
    "        z=np.dot(w,x[i])+b\n",
    "        f_wb=1/(1+2.7)**-z\n",
    "        err=f_wb-y[i]\n",
    "        for j in range(n):\n",
    "            d_dw[j]=d_dw[j]+err*x[i,j]\n",
    "        d_db=d_db+err\n",
    "        \n",
    "    d_dw=1/m*d_dw\n",
    "    d_db=1/m*d_db\n",
    "    \n",
    "    for j in range(n):\n",
    "        d_dw[j]=d_dw[j]+(lambda_/m)*w[j]\n",
    "        \n",
    "    return d_dw,d_db            "
   ]
  },
  {
   "cell_type": "code",
   "execution_count": null,
   "id": "31a7f42b",
   "metadata": {},
   "outputs": [],
   "source": []
  },
  {
   "cell_type": "code",
   "execution_count": null,
   "id": "fe77dc86",
   "metadata": {},
   "outputs": [],
   "source": []
  },
  {
   "cell_type": "code",
   "execution_count": null,
   "id": "38232c1b",
   "metadata": {},
   "outputs": [],
   "source": []
  },
  {
   "cell_type": "code",
   "execution_count": null,
   "id": "64e0481d",
   "metadata": {},
   "outputs": [],
   "source": []
  },
  {
   "cell_type": "code",
   "execution_count": null,
   "id": "6200daa8",
   "metadata": {},
   "outputs": [],
   "source": []
  },
  {
   "cell_type": "code",
   "execution_count": null,
   "id": "ae1e8864",
   "metadata": {},
   "outputs": [],
   "source": []
  },
  {
   "cell_type": "code",
   "execution_count": null,
   "id": "3017dfe3",
   "metadata": {},
   "outputs": [],
   "source": []
  },
  {
   "cell_type": "code",
   "execution_count": null,
   "id": "1111d02c",
   "metadata": {},
   "outputs": [],
   "source": []
  },
  {
   "cell_type": "code",
   "execution_count": null,
   "id": "326fbb0a",
   "metadata": {},
   "outputs": [],
   "source": []
  },
  {
   "cell_type": "code",
   "execution_count": null,
   "id": "c16e4618",
   "metadata": {},
   "outputs": [],
   "source": []
  },
  {
   "cell_type": "code",
   "execution_count": null,
   "id": "2687eabd",
   "metadata": {},
   "outputs": [],
   "source": []
  },
  {
   "cell_type": "code",
   "execution_count": null,
   "id": "565da475",
   "metadata": {},
   "outputs": [],
   "source": []
  },
  {
   "cell_type": "code",
   "execution_count": null,
   "id": "1a632626",
   "metadata": {},
   "outputs": [],
   "source": []
  },
  {
   "cell_type": "code",
   "execution_count": null,
   "id": "c9c4b1a5",
   "metadata": {},
   "outputs": [],
   "source": []
  },
  {
   "cell_type": "code",
   "execution_count": null,
   "id": "f9dc8d5c",
   "metadata": {},
   "outputs": [],
   "source": []
  },
  {
   "cell_type": "code",
   "execution_count": null,
   "id": "4de5f7ed",
   "metadata": {},
   "outputs": [],
   "source": []
  },
  {
   "cell_type": "code",
   "execution_count": null,
   "id": "63427599",
   "metadata": {},
   "outputs": [],
   "source": []
  }
 ],
 "metadata": {
  "kernelspec": {
   "display_name": "Python 3 (ipykernel)",
   "language": "python",
   "name": "python3"
  },
  "language_info": {
   "codemirror_mode": {
    "name": "ipython",
    "version": 3
   },
   "file_extension": ".py",
   "mimetype": "text/x-python",
   "name": "python",
   "nbconvert_exporter": "python",
   "pygments_lexer": "ipython3",
   "version": "3.9.19"
  }
 },
 "nbformat": 4,
 "nbformat_minor": 5
}
